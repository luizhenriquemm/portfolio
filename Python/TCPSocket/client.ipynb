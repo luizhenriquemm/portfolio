{
 "cells": [
  {
   "cell_type": "code",
   "execution_count": 39,
   "metadata": {
    "scrolled": true
   },
   "outputs": [
    {
     "name": "stdout",
     "output_type": "stream",
     "text": [
      "Conectando em localhost porta 9999\n",
      "Enviando dados...\n",
      "Fechando conexão\n"
     ]
    }
   ],
   "source": [
    "import socket\n",
    "import sys\n",
    "import time\n",
    "import json\n",
    "\n",
    "tcp = socket.socket(socket.AF_INET, socket.SOCK_STREAM)\n",
    "\n",
    "server_address = ('localhost', 9999)\n",
    "print ('Conectando em %s porta %s' % server_address)\n",
    "tcp.connect(server_address)\n",
    "\n",
    "try:\n",
    "    obj = {\n",
    "        \"chave1\": \"valor1\",\n",
    "        \"chave2\": \"valor2\",\n",
    "        \"chave3\": {\n",
    "            \"sub-item1\": \"valor-si1\"\n",
    "        }\n",
    "    }\n",
    "    print ('Enviando dados...')\n",
    "    tcp.sendall(json.dumps(obj).encode('utf-8'))\n",
    "\n",
    "    #msg = \"sucesso\"\n",
    "    #amount_received = 0\n",
    "    #amount_expected = len(msg)\n",
    "\n",
    "    #while amount_received < amount_expected:\n",
    "    \n",
    "    #data2 = tcp.recv(4096)\n",
    "    #print(tcp.recv(4096))\n",
    "    #amount_received += len(data2.decode('utf-8'))\n",
    "    #3print ('recebido \"%s\"' % data2.decode('utf-8'))\n",
    "    \n",
    "\n",
    "except:\n",
    "    e = sys.exc_info()[0]\n",
    "    print ('Ocorreu um erro: %s' % e)\n",
    "\n",
    "finally:\n",
    "    print ('Fechando conexão')\n",
    "    tcp.close()\n"
   ]
  },
  {
   "cell_type": "code",
   "execution_count": null,
   "metadata": {},
   "outputs": [],
   "source": []
  }
 ],
 "metadata": {
  "kernelspec": {
   "display_name": "Python 3",
   "language": "python",
   "name": "python3"
  },
  "language_info": {
   "codemirror_mode": {
    "name": "ipython",
    "version": 3
   },
   "file_extension": ".py",
   "mimetype": "text/x-python",
   "name": "python",
   "nbconvert_exporter": "python",
   "pygments_lexer": "ipython3",
   "version": "3.8.5"
  }
 },
 "nbformat": 4,
 "nbformat_minor": 4
}
